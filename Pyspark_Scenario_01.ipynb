{
  "nbformat": 4,
  "nbformat_minor": 0,
  "metadata": {
    "colab": {
      "provenance": [],
      "authorship_tag": "ABX9TyPDlXLDgqhj8q0jIAAMwbn3",
      "include_colab_link": true
    },
    "kernelspec": {
      "name": "python3",
      "display_name": "Python 3"
    },
    "language_info": {
      "name": "python"
    }
  },
  "cells": [
    {
      "cell_type": "markdown",
      "metadata": {
        "id": "view-in-github",
        "colab_type": "text"
      },
      "source": [
        "<a href=\"https://colab.research.google.com/github/PendlimarriSivasankar/PS/blob/main/Pyspark_Scenario_01.ipynb\" target=\"_parent\"><img src=\"https://colab.research.google.com/assets/colab-badge.svg\" alt=\"Open In Colab\"/></a>"
      ]
    },
    {
      "cell_type": "code",
      "execution_count": 2,
      "metadata": {
        "id": "lnSdJWno2Nd_"
      },
      "outputs": [],
      "source": [
        "!pip install -q pyspark\n",
        "from pyspark.sql import SparkSession\n",
        "spark = SparkSession.builder.appName(\"colab pyspark\").getOrCreate()\n"
      ]
    },
    {
      "cell_type": "code",
      "source": [
        "from pyspark.sql.functions import lead, col, expr\n",
        "from pyspark.sql.window import Window\n",
        "\n",
        "data = [(1111, \"2021-01-15\", 10),\n",
        "        (1111, \"2021-01-16\", 15),\n",
        "        (1111, \"2021-01-17\", 30),\n",
        "        (1112, \"2021-01-15\", 10),\n",
        "        (1112, \"2021-01-15\", 20),\n",
        "        (1112, \"2021-01-15\", 30)]\n",
        "\n",
        "myschema = [\"sensorid\", \"timestamp\", \"values\"]\n",
        "\n",
        "df = spark.createDataFrame(data, schema=myschema)\n",
        "df.show()\n",
        "d1 = Window.partitionBy(\"sensorid\").orderBy(\"values\")\n",
        "\n",
        "finaldf = df.withColumn(\"nextvalues\", lead(\"values\", 1).over(d1)) \\\n",
        "    .filter(col(\"nextvalues\").isNotNull()) \\\n",
        "    .withColumn(\"values\", expr(\"nextvalues-values\")) \\\n",
        "    .drop(\"nextvalues\") \\\n",
        "    .orderBy(col(\"sensorid\")).show()"
      ],
      "metadata": {
        "colab": {
          "base_uri": "https://localhost:8080/"
        },
        "id": "0T4KZ3kA6jat",
        "outputId": "47c9a395-03a4-486a-badf-10cd60fae851"
      },
      "execution_count": 4,
      "outputs": [
        {
          "output_type": "stream",
          "name": "stdout",
          "text": [
            "+--------+----------+------+\n",
            "|sensorid| timestamp|values|\n",
            "+--------+----------+------+\n",
            "|    1111|2021-01-15|    10|\n",
            "|    1111|2021-01-16|    15|\n",
            "|    1111|2021-01-17|    30|\n",
            "|    1112|2021-01-15|    10|\n",
            "|    1112|2021-01-15|    20|\n",
            "|    1112|2021-01-15|    30|\n",
            "+--------+----------+------+\n",
            "\n",
            "+--------+----------+------+\n",
            "|sensorid| timestamp|values|\n",
            "+--------+----------+------+\n",
            "|    1111|2021-01-15|     5|\n",
            "|    1111|2021-01-16|    15|\n",
            "|    1112|2021-01-15|    10|\n",
            "|    1112|2021-01-15|    10|\n",
            "+--------+----------+------+\n",
            "\n"
          ]
        }
      ]
    },
    {
      "cell_type": "code",
      "source": [
        "##WITHCOLUMN 1\n",
        "\n",
        "\n",
        "data=\"\"\"{\n",
        "    \"id\": 1,\n",
        "    \"institute\": \"zeyo\",\n",
        "    \"trainer\": \"Sai\",\n",
        "    \"zeyoAddress\" :{\n",
        "                        \"permanentAddress\" : \"Hyderabad\",\n",
        "                        \"temporaryAddress\" : \"chennai\"\n",
        "    }\n",
        "}\"\"\"\n",
        "\n",
        "df = spark.read.json(spark.sparkContext.parallelize([data]))\n",
        "\n",
        "df.show()\n",
        "df.printSchema()\n",
        "\n",
        "flatdf = df.select(\n",
        "    \"id\",\n",
        "    \"institute\",\n",
        "    \"trainer\",\n",
        "    \"zeyoAddress.permanentAddress\",\n",
        "    \"zeyoAddress.temporaryAddress\"\n",
        ")\n",
        "\n",
        "flatdf.show()\n",
        "flatdf.printSchema()\n",
        "\n",
        "withflatdf =(\n",
        "    df.withColumn(\"permanentAddress\",expr(\"zeyoAddress.permanentAddress\"))\n",
        "    .withColumn(\"temporaryAddress\", expr(\"zeyoAddress.temporaryAddress\"))\n",
        "    .drop(\"zeyoAddress\")\n",
        ")\n",
        "\n",
        "withflatdf.show()\n",
        "withflatdf.printSchema()"
      ],
      "metadata": {
        "colab": {
          "base_uri": "https://localhost:8080/"
        },
        "id": "ysvMxnR-IJsv",
        "outputId": "a7b749ee-2583-43de-930a-7a211b7de61c"
      },
      "execution_count": 7,
      "outputs": [
        {
          "output_type": "stream",
          "name": "stdout",
          "text": [
            "+---+---------+-------+--------------------+\n",
            "| id|institute|trainer|         zeyoAddress|\n",
            "+---+---------+-------+--------------------+\n",
            "|  1|     zeyo|    Sai|{Hyderabad, chennai}|\n",
            "+---+---------+-------+--------------------+\n",
            "\n",
            "root\n",
            " |-- id: long (nullable = true)\n",
            " |-- institute: string (nullable = true)\n",
            " |-- trainer: string (nullable = true)\n",
            " |-- zeyoAddress: struct (nullable = true)\n",
            " |    |-- permanentAddress: string (nullable = true)\n",
            " |    |-- temporaryAddress: string (nullable = true)\n",
            "\n",
            "+---+---------+-------+----------------+----------------+\n",
            "| id|institute|trainer|permanentAddress|temporaryAddress|\n",
            "+---+---------+-------+----------------+----------------+\n",
            "|  1|     zeyo|    Sai|       Hyderabad|         chennai|\n",
            "+---+---------+-------+----------------+----------------+\n",
            "\n",
            "root\n",
            " |-- id: long (nullable = true)\n",
            " |-- institute: string (nullable = true)\n",
            " |-- trainer: string (nullable = true)\n",
            " |-- permanentAddress: string (nullable = true)\n",
            " |-- temporaryAddress: string (nullable = true)\n",
            "\n",
            "+---+---------+-------+----------------+----------------+\n",
            "| id|institute|trainer|permanentAddress|temporaryAddress|\n",
            "+---+---------+-------+----------------+----------------+\n",
            "|  1|     zeyo|    Sai|       Hyderabad|         chennai|\n",
            "+---+---------+-------+----------------+----------------+\n",
            "\n",
            "root\n",
            " |-- id: long (nullable = true)\n",
            " |-- institute: string (nullable = true)\n",
            " |-- trainer: string (nullable = true)\n",
            " |-- permanentAddress: string (nullable = true)\n",
            " |-- temporaryAddress: string (nullable = true)\n",
            "\n"
          ]
        }
      ]
    }
  ]
}